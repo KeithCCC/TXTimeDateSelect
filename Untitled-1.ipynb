{
 "cells": [
  {
   "cell_type": "code",
   "execution_count": 6,
   "metadata": {},
   "outputs": [],
   "source": [
    "import datetime"
   ]
  },
  {
   "cell_type": "code",
   "execution_count": 7,
   "metadata": {},
   "outputs": [],
   "source": [
    "now = datetime.datetime.now()"
   ]
  },
  {
   "cell_type": "code",
   "execution_count": 11,
   "metadata": {},
   "outputs": [],
   "source": [
    "now = datetime.datetime.now()\n",
    "data = {'start': [now], 'end': [now]}\n",
    "df = pd.DataFrame(data)"
   ]
  },
  {
   "cell_type": "code",
   "execution_count": 10,
   "metadata": {},
   "outputs": [
    {
     "data": {
      "text/html": [
       "<div>\n",
       "<style scoped>\n",
       "    .dataframe tbody tr th:only-of-type {\n",
       "        vertical-align: middle;\n",
       "    }\n",
       "\n",
       "    .dataframe tbody tr th {\n",
       "        vertical-align: top;\n",
       "    }\n",
       "\n",
       "    .dataframe thead th {\n",
       "        text-align: right;\n",
       "    }\n",
       "</style>\n",
       "<table border=\"1\" class=\"dataframe\">\n",
       "  <thead>\n",
       "    <tr style=\"text-align: right;\">\n",
       "      <th></th>\n",
       "      <th>start</th>\n",
       "      <th>end</th>\n",
       "    </tr>\n",
       "  </thead>\n",
       "  <tbody>\n",
       "    <tr>\n",
       "      <th>0</th>\n",
       "      <td>2024-01-06 16:43:26.307941</td>\n",
       "      <td>2024-01-06 16:43:26.307941</td>\n",
       "    </tr>\n",
       "  </tbody>\n",
       "</table>\n",
       "</div>"
      ],
      "text/plain": [
       "                       start                        end\n",
       "0 2024-01-06 16:43:26.307941 2024-01-06 16:43:26.307941"
      ]
     },
     "execution_count": 10,
     "metadata": {},
     "output_type": "execute_result"
    }
   ],
   "source": [
    "df"
   ]
  },
  {
   "cell_type": "code",
   "execution_count": 4,
   "metadata": {},
   "outputs": [],
   "source": [
    "# From a list of lists\n",
    "data = [[1, 2], [3, 4]]\n",
    "df = pd.DataFrame(data, columns=[\"x\", \"y\"])\n",
    "\n",
    "# From a list of dictionaries\n",
    "data = [{\"x\": 1, \"y\": 2}, {\"x\": 3, \"y\": 4}]\n",
    "df = pd.DataFrame(data)"
   ]
  },
  {
   "cell_type": "code",
   "execution_count": 23,
   "metadata": {},
   "outputs": [
    {
     "ename": "AttributeError",
     "evalue": "'DataFrame' object has no attribute 'append'",
     "output_type": "error",
     "traceback": [
      "\u001b[1;31m---------------------------------------------------------------------------\u001b[0m",
      "\u001b[1;31mAttributeError\u001b[0m                            Traceback (most recent call last)",
      "\u001b[1;32m~\\AppData\\Local\\Temp\\ipykernel_33620\\1540142861.py\u001b[0m in \u001b[0;36m?\u001b[1;34m()\u001b[0m\n\u001b[0;32m     11\u001b[0m \u001b[1;31m# start_date = st.date_input('Enter date', datetime.now())\u001b[0m\u001b[1;33m\u001b[0m\u001b[1;33m\u001b[0m\u001b[0m\n\u001b[0;32m     12\u001b[0m \u001b[1;31m# start_time = st.time_input('Enter start time', datetime.now().time())\u001b[0m\u001b[1;33m\u001b[0m\u001b[1;33m\u001b[0m\u001b[0m\n\u001b[0;32m     13\u001b[0m \u001b[1;31m# end_time = st.time_input('Enter end time', datetime.now().time())\u001b[0m\u001b[1;33m\u001b[0m\u001b[1;33m\u001b[0m\u001b[0m\n\u001b[0;32m     14\u001b[0m \u001b[0mnew_row\u001b[0m \u001b[1;33m=\u001b[0m \u001b[1;33m{\u001b[0m\u001b[1;34m'start'\u001b[0m\u001b[1;33m:\u001b[0m \u001b[0mnow\u001b[0m\u001b[1;33m,\u001b[0m \u001b[1;34m'end'\u001b[0m\u001b[1;33m:\u001b[0m \u001b[0mnow\u001b[0m\u001b[1;33m}\u001b[0m\u001b[1;33m\u001b[0m\u001b[1;33m\u001b[0m\u001b[0m\n\u001b[1;32m---> 15\u001b[1;33m \u001b[0mdf\u001b[0m \u001b[1;33m=\u001b[0m \u001b[0mdf\u001b[0m\u001b[1;33m.\u001b[0m\u001b[0mappend\u001b[0m\u001b[1;33m(\u001b[0m\u001b[0mnew_row\u001b[0m\u001b[1;33m,\u001b[0m \u001b[0mignore_index\u001b[0m\u001b[1;33m=\u001b[0m\u001b[1;32mTrue\u001b[0m\u001b[1;33m)\u001b[0m\u001b[1;33m\u001b[0m\u001b[1;33m\u001b[0m\u001b[0m\n\u001b[0m\u001b[0;32m     16\u001b[0m \u001b[1;33m\u001b[0m\u001b[0m\n\u001b[0;32m     17\u001b[0m \u001b[1;31m# st.write(df)\u001b[0m\u001b[1;33m\u001b[0m\u001b[1;33m\u001b[0m\u001b[0m\n",
      "\u001b[1;32mc:\\Users\\chien\\AppData\\Local\\Programs\\Python\\Python312\\Lib\\site-packages\\pandas\\core\\generic.py\u001b[0m in \u001b[0;36m?\u001b[1;34m(self, name)\u001b[0m\n\u001b[0;32m   6200\u001b[0m             \u001b[1;32mand\u001b[0m \u001b[0mname\u001b[0m \u001b[1;32mnot\u001b[0m \u001b[1;32min\u001b[0m \u001b[0mself\u001b[0m\u001b[1;33m.\u001b[0m\u001b[0m_accessors\u001b[0m\u001b[1;33m\u001b[0m\u001b[1;33m\u001b[0m\u001b[0m\n\u001b[0;32m   6201\u001b[0m             \u001b[1;32mand\u001b[0m \u001b[0mself\u001b[0m\u001b[1;33m.\u001b[0m\u001b[0m_info_axis\u001b[0m\u001b[1;33m.\u001b[0m\u001b[0m_can_hold_identifiers_and_holds_name\u001b[0m\u001b[1;33m(\u001b[0m\u001b[0mname\u001b[0m\u001b[1;33m)\u001b[0m\u001b[1;33m\u001b[0m\u001b[1;33m\u001b[0m\u001b[0m\n\u001b[0;32m   6202\u001b[0m         \u001b[1;33m)\u001b[0m\u001b[1;33m:\u001b[0m\u001b[1;33m\u001b[0m\u001b[1;33m\u001b[0m\u001b[0m\n\u001b[0;32m   6203\u001b[0m             \u001b[1;32mreturn\u001b[0m \u001b[0mself\u001b[0m\u001b[1;33m[\u001b[0m\u001b[0mname\u001b[0m\u001b[1;33m]\u001b[0m\u001b[1;33m\u001b[0m\u001b[1;33m\u001b[0m\u001b[0m\n\u001b[1;32m-> 6204\u001b[1;33m         \u001b[1;32mreturn\u001b[0m \u001b[0mobject\u001b[0m\u001b[1;33m.\u001b[0m\u001b[0m__getattribute__\u001b[0m\u001b[1;33m(\u001b[0m\u001b[0mself\u001b[0m\u001b[1;33m,\u001b[0m \u001b[0mname\u001b[0m\u001b[1;33m)\u001b[0m\u001b[1;33m\u001b[0m\u001b[1;33m\u001b[0m\u001b[0m\n\u001b[0m",
      "\u001b[1;31mAttributeError\u001b[0m: 'DataFrame' object has no attribute 'append'"
     ]
    }
   ],
   "source": [
    "import pandas as pd\n",
    "# import streamlit as st\n",
    "import datetime\n",
    "\n",
    "# Create a pandas DataFrame with today's date and two time columns\n",
    "now = datetime.datetime.now()\n",
    "data = {'start': [now], 'end': [now]}\n",
    "df = pd.DataFrame(data)\n",
    "\n",
    "# start_date =  st.time_input('Enter start date')\n",
    "# start_date = st.date_input('Enter date', datetime.now())\n",
    "# start_time = st.time_input('Enter start time', datetime.now().time())\n",
    "# end_time = st.time_input('Enter end time', datetime.now().time())\n",
    "new_row = {'start': now, 'end': now}\n",
    "df = df.append(new_row, ignore_index=True)\n",
    "    \n",
    "# st.write(df)"
   ]
  },
  {
   "cell_type": "code",
   "execution_count": null,
   "metadata": {},
   "outputs": [],
   "source": [
    "import pandas as pd\n",
    "\n",
    "# Assuming 'data' is your non-DataFrame object\n",
    "data = {'A': [1, 2, 3], 'B': [4, 5, 6]}\n",
    "\n",
    "# Convert 'data' to a DataFrame\n",
    "df = pd.DataFrame(data)\n",
    "\n",
    "# Now you can use the 'append' method\n",
    "new_row = {'A': 7, 'B': 8}\n",
    "df = df.append(new_row, ignore_index=True)"
   ]
  },
  {
   "cell_type": "code",
   "execution_count": 6,
   "metadata": {},
   "outputs": [
    {
     "ename": "NameError",
     "evalue": "name 'np' is not defined",
     "output_type": "error",
     "traceback": [
      "\u001b[1;31m---------------------------------------------------------------------------\u001b[0m",
      "\u001b[1;31mNameError\u001b[0m                                 Traceback (most recent call last)",
      "\u001b[1;32md:\\dev\\1.Projects\\TXTimeDateSelect\\Untitled-1.ipynb Cell 8\u001b[0m line \u001b[0;36m6\n\u001b[0;32m      <a href='vscode-notebook-cell:/d%3A/dev/1.Projects/TXTimeDateSelect/Untitled-1.ipynb#X11sZmlsZQ%3D%3D?line=0'>1</a>\u001b[0m df2 \u001b[39m=\u001b[39m pd\u001b[39m.\u001b[39mDataFrame(\n\u001b[0;32m      <a href='vscode-notebook-cell:/d%3A/dev/1.Projects/TXTimeDateSelect/Untitled-1.ipynb#X11sZmlsZQ%3D%3D?line=1'>2</a>\u001b[0m     {\n\u001b[0;32m      <a href='vscode-notebook-cell:/d%3A/dev/1.Projects/TXTimeDateSelect/Untitled-1.ipynb#X11sZmlsZQ%3D%3D?line=2'>3</a>\u001b[0m         \u001b[39m\"\u001b[39m\u001b[39mA\u001b[39m\u001b[39m\"\u001b[39m: \u001b[39m1.0\u001b[39m,\n\u001b[0;32m      <a href='vscode-notebook-cell:/d%3A/dev/1.Projects/TXTimeDateSelect/Untitled-1.ipynb#X11sZmlsZQ%3D%3D?line=3'>4</a>\u001b[0m         \u001b[39m\"\u001b[39m\u001b[39mB\u001b[39m\u001b[39m\"\u001b[39m: pd\u001b[39m.\u001b[39mTimestamp(\u001b[39m\"\u001b[39m\u001b[39m20130102\u001b[39m\u001b[39m\"\u001b[39m),\n\u001b[0;32m      <a href='vscode-notebook-cell:/d%3A/dev/1.Projects/TXTimeDateSelect/Untitled-1.ipynb#X11sZmlsZQ%3D%3D?line=4'>5</a>\u001b[0m         \u001b[39m\"\u001b[39m\u001b[39mC\u001b[39m\u001b[39m\"\u001b[39m: pd\u001b[39m.\u001b[39mSeries(\u001b[39m1\u001b[39m, index\u001b[39m=\u001b[39m\u001b[39mlist\u001b[39m(\u001b[39mrange\u001b[39m(\u001b[39m4\u001b[39m)), dtype\u001b[39m=\u001b[39m\u001b[39m\"\u001b[39m\u001b[39mfloat32\u001b[39m\u001b[39m\"\u001b[39m),\n\u001b[1;32m----> <a href='vscode-notebook-cell:/d%3A/dev/1.Projects/TXTimeDateSelect/Untitled-1.ipynb#X11sZmlsZQ%3D%3D?line=5'>6</a>\u001b[0m         \u001b[39m\"\u001b[39m\u001b[39mD\u001b[39m\u001b[39m\"\u001b[39m: np\u001b[39m.\u001b[39marray([\u001b[39m3\u001b[39m] \u001b[39m*\u001b[39m \u001b[39m4\u001b[39m, dtype\u001b[39m=\u001b[39m\u001b[39m\"\u001b[39m\u001b[39mint32\u001b[39m\u001b[39m\"\u001b[39m),\n\u001b[0;32m      <a href='vscode-notebook-cell:/d%3A/dev/1.Projects/TXTimeDateSelect/Untitled-1.ipynb#X11sZmlsZQ%3D%3D?line=6'>7</a>\u001b[0m         \u001b[39m\"\u001b[39m\u001b[39mE\u001b[39m\u001b[39m\"\u001b[39m: pd\u001b[39m.\u001b[39mCategorical([\u001b[39m\"\u001b[39m\u001b[39mtest\u001b[39m\u001b[39m\"\u001b[39m, \u001b[39m\"\u001b[39m\u001b[39mtrain\u001b[39m\u001b[39m\"\u001b[39m, \u001b[39m\"\u001b[39m\u001b[39mtest\u001b[39m\u001b[39m\"\u001b[39m, \u001b[39m\"\u001b[39m\u001b[39mtrain\u001b[39m\u001b[39m\"\u001b[39m]),\n\u001b[0;32m      <a href='vscode-notebook-cell:/d%3A/dev/1.Projects/TXTimeDateSelect/Untitled-1.ipynb#X11sZmlsZQ%3D%3D?line=7'>8</a>\u001b[0m         \u001b[39m\"\u001b[39m\u001b[39mF\u001b[39m\u001b[39m\"\u001b[39m: \u001b[39m\"\u001b[39m\u001b[39mfoo\u001b[39m\u001b[39m\"\u001b[39m,\n\u001b[0;32m      <a href='vscode-notebook-cell:/d%3A/dev/1.Projects/TXTimeDateSelect/Untitled-1.ipynb#X11sZmlsZQ%3D%3D?line=8'>9</a>\u001b[0m     }\n\u001b[0;32m     <a href='vscode-notebook-cell:/d%3A/dev/1.Projects/TXTimeDateSelect/Untitled-1.ipynb#X11sZmlsZQ%3D%3D?line=9'>10</a>\u001b[0m )\n",
      "\u001b[1;31mNameError\u001b[0m: name 'np' is not defined"
     ]
    }
   ],
   "source": [
    "df2 = pd.DataFrame(\n",
    "    {\n",
    "        \"A\": 1.0,\n",
    "        \"B\": pd.Timestamp(\"20130102\"),\n",
    "        \"C\": pd.Series(1, index=list(range(4)), dtype=\"float32\"),\n",
    "        \"D\": np.array([3] * 4, dtype=\"int32\"),\n",
    "        \"E\": pd.Categorical([\"test\", \"train\", \"test\", \"train\"]),\n",
    "        \"F\": \"foo\",\n",
    "    }\n",
    ")\n"
   ]
  },
  {
   "cell_type": "code",
   "execution_count": 19,
   "metadata": {},
   "outputs": [
    {
     "name": "stdout",
     "output_type": "stream",
     "text": [
      "    Name  Age      City\n",
      "0   John   28  New York\n",
      "1   Anna   24     Paris\n",
      "2  Peter   33    Berlin\n"
     ]
    }
   ],
   "source": [
    "# Import pandas library\n",
    "import pandas as pd\n",
    "\n",
    "\n",
    "# Create a dictionary of data\n",
    "data = {\n",
    "    'Name': ['John', 'Anna', 'Peter'],\n",
    "    'Age': [28, 24, 33],\n",
    "    'City': ['New York', 'Paris', 'Berlin']\n",
    "}\n",
    "\n",
    "df = pd.DataFrame(data)\n",
    "\n",
    "\n",
    "# Create a DataFrame from the dictionary\n",
    "# df.loc[len(df)] = ['Jane', 25, 'Madrid']\n",
    "\n",
    "# Print the DataFrame\n",
    "print(df)\n"
   ]
  },
  {
   "cell_type": "code",
   "execution_count": 22,
   "metadata": {},
   "outputs": [
    {
     "ename": "AttributeError",
     "evalue": "module 'pandas' has no attribute 'append'",
     "output_type": "error",
     "traceback": [
      "\u001b[1;31m---------------------------------------------------------------------------\u001b[0m",
      "\u001b[1;31mAttributeError\u001b[0m                            Traceback (most recent call last)",
      "\u001b[1;32md:\\dev\\1.Projects\\TXTimeDateSelect\\Untitled-1.ipynb Cell 10\u001b[0m line \u001b[0;36m2\n\u001b[0;32m      <a href='vscode-notebook-cell:/d%3A/dev/1.Projects/TXTimeDateSelect/Untitled-1.ipynb#X14sZmlsZQ%3D%3D?line=0'>1</a>\u001b[0m newRec  \u001b[39m=\u001b[39m pd\u001b[39m.\u001b[39mDataFrame([{\u001b[39m'\u001b[39m\u001b[39mName\u001b[39m\u001b[39m'\u001b[39m:\u001b[39m'\u001b[39m\u001b[39mJane\u001b[39m\u001b[39m'\u001b[39m,\u001b[39m'\u001b[39m\u001b[39mAge\u001b[39m\u001b[39m'\u001b[39m:\u001b[39m25\u001b[39m, \u001b[39m'\u001b[39m\u001b[39mCity\u001b[39m\u001b[39m'\u001b[39m: \u001b[39m'\u001b[39m\u001b[39mMadrid\u001b[39m\u001b[39m'\u001b[39m}])\n\u001b[1;32m----> <a href='vscode-notebook-cell:/d%3A/dev/1.Projects/TXTimeDateSelect/Untitled-1.ipynb#X14sZmlsZQ%3D%3D?line=1'>2</a>\u001b[0m df \u001b[39m=\u001b[39m pd\u001b[39m.\u001b[39;49mappend([df, newRec])\n\u001b[0;32m      <a href='vscode-notebook-cell:/d%3A/dev/1.Projects/TXTimeDateSelect/Untitled-1.ipynb#X14sZmlsZQ%3D%3D?line=2'>3</a>\u001b[0m \u001b[39mprint\u001b[39m(df)\n",
      "\u001b[1;31mAttributeError\u001b[0m: module 'pandas' has no attribute 'append'"
     ]
    }
   ],
   "source": [
    "newRec  = pd.DataFrame([{'Name':'Jane','Age':25, 'City': 'Madrid'}])\n",
    "df = pd.append([df, newRec])\n",
    "print(df)"
   ]
  },
  {
   "cell_type": "code",
   "execution_count": 24,
   "metadata": {},
   "outputs": [
    {
     "name": "stdout",
     "output_type": "stream",
     "text": [
      "    Name  Age      City\n",
      "0   John   28  New York\n",
      "1   Anna   24     Paris\n",
      "2  Peter   33    Berlin\n",
      "0   Jane   25    Madrid\n"
     ]
    }
   ],
   "source": [
    "newRec  = pd.DataFrame([{'Name':'Jane','Age':25, 'City': 'Madrid'}])\n",
    "df = pd.concat([df, newRec])\n",
    "print(df)\n"
   ]
  },
  {
   "cell_type": "code",
   "execution_count": 14,
   "metadata": {},
   "outputs": [
    {
     "name": "stdout",
     "output_type": "stream",
     "text": [
      "    Name  Age      City  Nmae\n",
      "0   John   28  New York   NaN\n",
      "1   Anna   24     Paris   NaN\n",
      "2  Peter   33    Berlin   NaN\n",
      "3    NaN   25    Madrid  Jane\n"
     ]
    }
   ],
   "source": [
    "print(df)"
   ]
  },
  {
   "cell_type": "code",
   "execution_count": 25,
   "metadata": {},
   "outputs": [],
   "source": [
    "import datetime\n",
    "import pandas as pd\n",
    "\n",
    "\n",
    "# col0, col1, col2 = st.columns(3)\n",
    "\n",
    "today=datetime.datetime.now().date()\n",
    "\n",
    "\n",
    "today = datetime.datetime.now()\n",
    "time1= datetime.time(0, 0)\n",
    "# data = [[today, time1, time1]]\n",
    "\n",
    "data = [[today , time1, time1]]\n",
    "df = pd.DataFrame(data, columns=[\"date\", \"Start\", \"End\"])\n",
    "\n",
    "# with col0:\n",
    "#     d = st.date_input(\"date\", today)\n",
    "#     st.write('today')\n",
    "\n",
    "# with col1:\n",
    "#     t1 = st.time_input('start time', datetime.time(8, 45))\n",
    "#     st.write('start time ', t1)\n",
    "\n",
    "# with col2:\n",
    "#     t2 = st.time_input('End  time', datetime.time(9, 30))\n",
    "#     st.write('End time ', t2)\n",
    "\n",
    "# selected_option = st.selectbox('Select an option:', options)\n",
    "\n",
    "# st.write('Selcted:', selected_option)\n",
    "\n",
    "# st.button(\"Add apointment\")\n",
    "\n",
    "# st.button(\"remove apointment\")\n",
    "# if st.button(\"Add apointment\"):\n",
    "# new_record = pd.DataFrame([{'date':d,'Start': t1, 'End':t2}])\n",
    "# df = pd.concat([df, new_record])\n",
    "\n",
    "    # df.loc[-1] = [d, t1, t2]  # adding a row\n",
    "    # df.index = df.index + 1 \n",
    "    # new_row = {'Date': d, 'Start': t1, 'End': t2}\n",
    "    # df = df.append(new_row, ignore_index=True)\n",
    "\n",
    "# st.write(df)\n",
    "# element = [t1, t2]\n",
    "# appointmentlist.append(element)\n",
    "\n",
    "# st.write(appointmentlist)\n",
    "\n",
    "# st.button(\"Reset\", type=\"primary\")\n",
    "# if st.button('Say hello'):\n",
    "#     st.write('Why hello there')\n",
    "# else:\n",
    "#     st.write('Goodbye')"
   ]
  },
  {
   "cell_type": "code",
   "execution_count": 26,
   "metadata": {},
   "outputs": [
    {
     "name": "stdout",
     "output_type": "stream",
     "text": [
      "                        date     Start       End\n",
      "0 2024-01-06 20:28:42.251163  00:00:00  00:00:00\n"
     ]
    }
   ],
   "source": [
    "print (df)"
   ]
  },
  {
   "cell_type": "code",
   "execution_count": 30,
   "metadata": {},
   "outputs": [],
   "source": [
    "d=today = datetime.datetime.now()\n",
    "t1= datetime.time(0, 0)\n",
    "t2= datetime.time(0, 0)\n",
    "new_record = pd.DataFrame([{'date':d,'Start': t1, 'End':t2}])\n",
    "df = pd.concat([df, new_record])"
   ]
  },
  {
   "cell_type": "code",
   "execution_count": 31,
   "metadata": {},
   "outputs": [
    {
     "name": "stdout",
     "output_type": "stream",
     "text": [
      "                        date     Start       End\n",
      "0 2024-01-06 20:28:42.251163  00:00:00  00:00:00\n",
      "0 2024-01-06 20:31:21.992934  00:00:00  00:00:00\n",
      "0 2024-01-06 20:35:52.150678  00:00:00  00:00:00\n"
     ]
    }
   ],
   "source": [
    "print (df)"
   ]
  }
 ],
 "metadata": {
  "kernelspec": {
   "display_name": "Python 3",
   "language": "python",
   "name": "python3"
  },
  "language_info": {
   "codemirror_mode": {
    "name": "ipython",
    "version": 3
   },
   "file_extension": ".py",
   "mimetype": "text/x-python",
   "name": "python",
   "nbconvert_exporter": "python",
   "pygments_lexer": "ipython3",
   "version": "3.12.1"
  }
 },
 "nbformat": 4,
 "nbformat_minor": 2
}
